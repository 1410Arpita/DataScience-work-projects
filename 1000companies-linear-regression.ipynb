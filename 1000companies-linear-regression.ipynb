{
 "cells": [
  {
   "cell_type": "code",
   "execution_count": 1,
   "id": "8a4f721d",
   "metadata": {
    "_cell_guid": "b1076dfc-b9ad-4769-8c92-a6c4dae69d19",
    "_uuid": "8f2839f25d086af736a60e9eeb907d3b93b6e0e5",
    "execution": {
     "iopub.execute_input": "2023-03-10T10:11:10.574257Z",
     "iopub.status.busy": "2023-03-10T10:11:10.573716Z",
     "iopub.status.idle": "2023-03-10T10:11:10.593904Z",
     "shell.execute_reply": "2023-03-10T10:11:10.592223Z"
    },
    "papermill": {
     "duration": 0.032482,
     "end_time": "2023-03-10T10:11:10.597980",
     "exception": false,
     "start_time": "2023-03-10T10:11:10.565498",
     "status": "completed"
    },
    "tags": []
   },
   "outputs": [
    {
     "name": "stdout",
     "output_type": "stream",
     "text": [
      "/kaggle/input/1000-companies-profit/1000_Companies.csv\n"
     ]
    }
   ],
   "source": [
    "# This Python 3 environment comes with many helpful analytics libraries installed\n",
    "# It is defined by the kaggle/python Docker image: https://github.com/kaggle/docker-python\n",
    "# For example, here's several helpful packages to load\n",
    "\n",
    "import numpy as np # linear algebra\n",
    "import pandas as pd # data processing, CSV file I/O (e.g. pd.read_csv)\n",
    "\n",
    "# Input data files are available in the read-only \"../input/\" directory\n",
    "# For example, running this (by clicking run or pressing Shift+Enter) will list all files under the input directory\n",
    "\n",
    "import os\n",
    "for dirname, _, filenames in os.walk('/kaggle/input'):\n",
    "    for filename in filenames:\n",
    "        print(os.path.join(dirname, filename))\n",
    "\n",
    "# You can write up to 20GB to the current directory (/kaggle/working/) that gets preserved as output when you create a version using \"Save & Run All\" \n",
    "# You can also write temporary files to /kaggle/temp/, but they won't be saved outside of the current session"
   ]
  },
  {
   "cell_type": "code",
   "execution_count": 2,
   "id": "c7fa0bce",
   "metadata": {
    "execution": {
     "iopub.execute_input": "2023-03-10T10:11:10.610962Z",
     "iopub.status.busy": "2023-03-10T10:11:10.609729Z",
     "iopub.status.idle": "2023-03-10T10:11:11.893950Z",
     "shell.execute_reply": "2023-03-10T10:11:11.892197Z"
    },
    "papermill": {
     "duration": 1.294209,
     "end_time": "2023-03-10T10:11:11.897401",
     "exception": false,
     "start_time": "2023-03-10T10:11:10.603192",
     "status": "completed"
    },
    "tags": []
   },
   "outputs": [],
   "source": [
    "import numpy as np \n",
    "import matplotlib.pyplot as plt\n",
    "import pandas as pd\n",
    "import seaborn as sns"
   ]
  },
  {
   "cell_type": "code",
   "execution_count": 3,
   "id": "35c8cec3",
   "metadata": {
    "execution": {
     "iopub.execute_input": "2023-03-10T10:11:11.909544Z",
     "iopub.status.busy": "2023-03-10T10:11:11.909083Z",
     "iopub.status.idle": "2023-03-10T10:11:11.963566Z",
     "shell.execute_reply": "2023-03-10T10:11:11.961555Z"
    },
    "papermill": {
     "duration": 0.064522,
     "end_time": "2023-03-10T10:11:11.967177",
     "exception": false,
     "start_time": "2023-03-10T10:11:11.902655",
     "status": "completed"
    },
    "tags": []
   },
   "outputs": [
    {
     "data": {
      "text/html": [
       "<div>\n",
       "<style scoped>\n",
       "    .dataframe tbody tr th:only-of-type {\n",
       "        vertical-align: middle;\n",
       "    }\n",
       "\n",
       "    .dataframe tbody tr th {\n",
       "        vertical-align: top;\n",
       "    }\n",
       "\n",
       "    .dataframe thead th {\n",
       "        text-align: right;\n",
       "    }\n",
       "</style>\n",
       "<table border=\"1\" class=\"dataframe\">\n",
       "  <thead>\n",
       "    <tr style=\"text-align: right;\">\n",
       "      <th></th>\n",
       "      <th>R&amp;D Spend</th>\n",
       "      <th>Administration</th>\n",
       "      <th>Marketing Spend</th>\n",
       "      <th>State</th>\n",
       "      <th>Profit</th>\n",
       "    </tr>\n",
       "  </thead>\n",
       "  <tbody>\n",
       "    <tr>\n",
       "      <th>0</th>\n",
       "      <td>165349.20</td>\n",
       "      <td>136897.80</td>\n",
       "      <td>471784.10</td>\n",
       "      <td>New York</td>\n",
       "      <td>192261.83</td>\n",
       "    </tr>\n",
       "    <tr>\n",
       "      <th>1</th>\n",
       "      <td>162597.70</td>\n",
       "      <td>151377.59</td>\n",
       "      <td>443898.53</td>\n",
       "      <td>California</td>\n",
       "      <td>191792.06</td>\n",
       "    </tr>\n",
       "    <tr>\n",
       "      <th>2</th>\n",
       "      <td>153441.51</td>\n",
       "      <td>101145.55</td>\n",
       "      <td>407934.54</td>\n",
       "      <td>Florida</td>\n",
       "      <td>191050.39</td>\n",
       "    </tr>\n",
       "    <tr>\n",
       "      <th>3</th>\n",
       "      <td>144372.41</td>\n",
       "      <td>118671.85</td>\n",
       "      <td>383199.62</td>\n",
       "      <td>New York</td>\n",
       "      <td>182901.99</td>\n",
       "    </tr>\n",
       "    <tr>\n",
       "      <th>4</th>\n",
       "      <td>142107.34</td>\n",
       "      <td>91391.77</td>\n",
       "      <td>366168.42</td>\n",
       "      <td>Florida</td>\n",
       "      <td>166187.94</td>\n",
       "    </tr>\n",
       "  </tbody>\n",
       "</table>\n",
       "</div>"
      ],
      "text/plain": [
       "   R&D Spend  Administration  Marketing Spend       State     Profit\n",
       "0  165349.20       136897.80        471784.10    New York  192261.83\n",
       "1  162597.70       151377.59        443898.53  California  191792.06\n",
       "2  153441.51       101145.55        407934.54     Florida  191050.39\n",
       "3  144372.41       118671.85        383199.62    New York  182901.99\n",
       "4  142107.34        91391.77        366168.42     Florida  166187.94"
      ]
     },
     "execution_count": 3,
     "metadata": {},
     "output_type": "execute_result"
    }
   ],
   "source": [
    "companies = pd.read_csv('../input/1000-companies-profit/1000_Companies.csv')\n",
    "x = companies.iloc[:, : -1].values\n",
    "y = companies.iloc[:,  4].values\n",
    "companies.head()"
   ]
  },
  {
   "cell_type": "code",
   "execution_count": 4,
   "id": "cedcb3f5",
   "metadata": {
    "execution": {
     "iopub.execute_input": "2023-03-10T10:11:11.982079Z",
     "iopub.status.busy": "2023-03-10T10:11:11.981165Z",
     "iopub.status.idle": "2023-03-10T10:11:12.000957Z",
     "shell.execute_reply": "2023-03-10T10:11:11.999137Z"
    },
    "papermill": {
     "duration": 0.031881,
     "end_time": "2023-03-10T10:11:12.005095",
     "exception": false,
     "start_time": "2023-03-10T10:11:11.973214",
     "status": "completed"
    },
    "tags": []
   },
   "outputs": [
    {
     "data": {
      "text/html": [
       "<div>\n",
       "<style scoped>\n",
       "    .dataframe tbody tr th:only-of-type {\n",
       "        vertical-align: middle;\n",
       "    }\n",
       "\n",
       "    .dataframe tbody tr th {\n",
       "        vertical-align: top;\n",
       "    }\n",
       "\n",
       "    .dataframe thead th {\n",
       "        text-align: right;\n",
       "    }\n",
       "</style>\n",
       "<table border=\"1\" class=\"dataframe\">\n",
       "  <thead>\n",
       "    <tr style=\"text-align: right;\">\n",
       "      <th></th>\n",
       "      <th>R&amp;D Spend</th>\n",
       "      <th>Administration</th>\n",
       "      <th>Marketing Spend</th>\n",
       "      <th>Profit</th>\n",
       "    </tr>\n",
       "  </thead>\n",
       "  <tbody>\n",
       "    <tr>\n",
       "      <th>R&amp;D Spend</th>\n",
       "      <td>1.000000</td>\n",
       "      <td>0.582434</td>\n",
       "      <td>0.978407</td>\n",
       "      <td>0.945245</td>\n",
       "    </tr>\n",
       "    <tr>\n",
       "      <th>Administration</th>\n",
       "      <td>0.582434</td>\n",
       "      <td>1.000000</td>\n",
       "      <td>0.520465</td>\n",
       "      <td>0.741560</td>\n",
       "    </tr>\n",
       "    <tr>\n",
       "      <th>Marketing Spend</th>\n",
       "      <td>0.978407</td>\n",
       "      <td>0.520465</td>\n",
       "      <td>1.000000</td>\n",
       "      <td>0.917270</td>\n",
       "    </tr>\n",
       "    <tr>\n",
       "      <th>Profit</th>\n",
       "      <td>0.945245</td>\n",
       "      <td>0.741560</td>\n",
       "      <td>0.917270</td>\n",
       "      <td>1.000000</td>\n",
       "    </tr>\n",
       "  </tbody>\n",
       "</table>\n",
       "</div>"
      ],
      "text/plain": [
       "                 R&D Spend  Administration  Marketing Spend    Profit\n",
       "R&D Spend         1.000000        0.582434         0.978407  0.945245\n",
       "Administration    0.582434        1.000000         0.520465  0.741560\n",
       "Marketing Spend   0.978407        0.520465         1.000000  0.917270\n",
       "Profit            0.945245        0.741560         0.917270  1.000000"
      ]
     },
     "execution_count": 4,
     "metadata": {},
     "output_type": "execute_result"
    }
   ],
   "source": [
    "companies.corr()"
   ]
  },
  {
   "cell_type": "code",
   "execution_count": 5,
   "id": "34822c4d",
   "metadata": {
    "execution": {
     "iopub.execute_input": "2023-03-10T10:11:12.020596Z",
     "iopub.status.busy": "2023-03-10T10:11:12.019485Z",
     "iopub.status.idle": "2023-03-10T10:11:12.285528Z",
     "shell.execute_reply": "2023-03-10T10:11:12.283951Z"
    },
    "papermill": {
     "duration": 0.276515,
     "end_time": "2023-03-10T10:11:12.288805",
     "exception": false,
     "start_time": "2023-03-10T10:11:12.012290",
     "status": "completed"
    },
    "tags": []
   },
   "outputs": [
    {
     "data": {
      "text/plain": [
       "<AxesSubplot:>"
      ]
     },
     "execution_count": 5,
     "metadata": {},
     "output_type": "execute_result"
    },
    {
     "data": {
      "image/png": "[encoded data removed]",
      "text/plain": [
       "<Figure size 432x288 with 2 Axes>"
      ]
     },
     "metadata": {
      "needs_background": "light"
     },
     "output_type": "display_data"
    }
   ],
   "source": [
    "sns.heatmap(companies.corr())"
   ]
  },
  {
   "cell_type": "markdown",
   "id": "fb4b9256",
   "metadata": {
    "papermill": {
     "duration": 0.005621,
     "end_time": "2023-03-10T10:11:12.300563",
     "exception": false,
     "start_time": "2023-03-10T10:11:12.294942",
     "status": "completed"
    },
    "tags": []
   },
   "source": [
    "### Encoding Categorical Data"
   ]
  },
  {
   "cell_type": "code",
   "execution_count": 6,
   "id": "67fe9939",
   "metadata": {
    "execution": {
     "iopub.execute_input": "2023-03-10T10:11:12.315892Z",
     "iopub.status.busy": "2023-03-10T10:11:12.315457Z",
     "iopub.status.idle": "2023-03-10T10:11:12.488984Z",
     "shell.execute_reply": "2023-03-10T10:11:12.487779Z"
    },
    "papermill": {
     "duration": 0.183812,
     "end_time": "2023-03-10T10:11:12.491975",
     "exception": false,
     "start_time": "2023-03-10T10:11:12.308163",
     "status": "completed"
    },
    "tags": []
   },
   "outputs": [],
   "source": [
    "from sklearn.preprocessing import LabelEncoder, OneHotEncoder\n",
    "\n",
    "labelencoder = LabelEncoder()\n",
    "x[:, 3] = labelencoder.fit_transform(x[:, 3])\n",
    "# transform = make_column_transformer((OneHotEncoder(), x[:, 3]), remainder = 'passthrough')\n",
    "\n",
    "onehotencoder = OneHotEncoder()\n",
    "enc_data = onehotencoder.fit_transform(x[:, 3].reshape(-1,1)).toarray()\n"
   ]
  },
  {
   "cell_type": "code",
   "execution_count": 7,
   "id": "cf9f41b3",
   "metadata": {
    "execution": {
     "iopub.execute_input": "2023-03-10T10:11:12.505896Z",
     "iopub.status.busy": "2023-03-10T10:11:12.505450Z",
     "iopub.status.idle": "2023-03-10T10:11:12.527519Z",
     "shell.execute_reply": "2023-03-10T10:11:12.526232Z"
    },
    "papermill": {
     "duration": 0.032304,
     "end_time": "2023-03-10T10:11:12.530335",
     "exception": false,
     "start_time": "2023-03-10T10:11:12.498031",
     "status": "completed"
    },
    "tags": []
   },
   "outputs": [
    {
     "data": {
      "text/html": [
       "<div>\n",
       "<style scoped>\n",
       "    .dataframe tbody tr th:only-of-type {\n",
       "        vertical-align: middle;\n",
       "    }\n",
       "\n",
       "    .dataframe tbody tr th {\n",
       "        vertical-align: top;\n",
       "    }\n",
       "\n",
       "    .dataframe thead th {\n",
       "        text-align: right;\n",
       "    }\n",
       "</style>\n",
       "<table border=\"1\" class=\"dataframe\">\n",
       "  <thead>\n",
       "    <tr style=\"text-align: right;\">\n",
       "      <th></th>\n",
       "      <th>R&amp;D Spend</th>\n",
       "      <th>Administration</th>\n",
       "      <th>Marketing Spend</th>\n",
       "      <th>State</th>\n",
       "      <th>Profit</th>\n",
       "    </tr>\n",
       "  </thead>\n",
       "  <tbody>\n",
       "    <tr>\n",
       "      <th>0</th>\n",
       "      <td>165349.20</td>\n",
       "      <td>136897.800</td>\n",
       "      <td>471784.1000</td>\n",
       "      <td>New York</td>\n",
       "      <td>192261.83000</td>\n",
       "    </tr>\n",
       "    <tr>\n",
       "      <th>1</th>\n",
       "      <td>162597.70</td>\n",
       "      <td>151377.590</td>\n",
       "      <td>443898.5300</td>\n",
       "      <td>California</td>\n",
       "      <td>191792.06000</td>\n",
       "    </tr>\n",
       "    <tr>\n",
       "      <th>2</th>\n",
       "      <td>153441.51</td>\n",
       "      <td>101145.550</td>\n",
       "      <td>407934.5400</td>\n",
       "      <td>Florida</td>\n",
       "      <td>191050.39000</td>\n",
       "    </tr>\n",
       "    <tr>\n",
       "      <th>3</th>\n",
       "      <td>144372.41</td>\n",
       "      <td>118671.850</td>\n",
       "      <td>383199.6200</td>\n",
       "      <td>New York</td>\n",
       "      <td>182901.99000</td>\n",
       "    </tr>\n",
       "    <tr>\n",
       "      <th>4</th>\n",
       "      <td>142107.34</td>\n",
       "      <td>91391.770</td>\n",
       "      <td>366168.4200</td>\n",
       "      <td>Florida</td>\n",
       "      <td>166187.94000</td>\n",
       "    </tr>\n",
       "    <tr>\n",
       "      <th>...</th>\n",
       "      <td>...</td>\n",
       "      <td>...</td>\n",
       "      <td>...</td>\n",
       "      <td>...</td>\n",
       "      <td>...</td>\n",
       "    </tr>\n",
       "    <tr>\n",
       "      <th>995</th>\n",
       "      <td>54135.00</td>\n",
       "      <td>118451.999</td>\n",
       "      <td>173232.6695</td>\n",
       "      <td>California</td>\n",
       "      <td>95279.96251</td>\n",
       "    </tr>\n",
       "    <tr>\n",
       "      <th>996</th>\n",
       "      <td>134970.00</td>\n",
       "      <td>130390.080</td>\n",
       "      <td>329204.0228</td>\n",
       "      <td>California</td>\n",
       "      <td>164336.60550</td>\n",
       "    </tr>\n",
       "    <tr>\n",
       "      <th>997</th>\n",
       "      <td>100275.47</td>\n",
       "      <td>241926.310</td>\n",
       "      <td>227142.8200</td>\n",
       "      <td>California</td>\n",
       "      <td>413956.48000</td>\n",
       "    </tr>\n",
       "    <tr>\n",
       "      <th>998</th>\n",
       "      <td>128456.23</td>\n",
       "      <td>321652.140</td>\n",
       "      <td>281692.3200</td>\n",
       "      <td>California</td>\n",
       "      <td>333962.19000</td>\n",
       "    </tr>\n",
       "    <tr>\n",
       "      <th>999</th>\n",
       "      <td>161181.72</td>\n",
       "      <td>270939.860</td>\n",
       "      <td>295442.1700</td>\n",
       "      <td>New York</td>\n",
       "      <td>476485.43000</td>\n",
       "    </tr>\n",
       "  </tbody>\n",
       "</table>\n",
       "<p>1000 rows × 5 columns</p>\n",
       "</div>"
      ],
      "text/plain": [
       "     R&D Spend  Administration  Marketing Spend       State        Profit\n",
       "0    165349.20      136897.800      471784.1000    New York  192261.83000\n",
       "1    162597.70      151377.590      443898.5300  California  191792.06000\n",
       "2    153441.51      101145.550      407934.5400     Florida  191050.39000\n",
       "3    144372.41      118671.850      383199.6200    New York  182901.99000\n",
       "4    142107.34       91391.770      366168.4200     Florida  166187.94000\n",
       "..         ...             ...              ...         ...           ...\n",
       "995   54135.00      118451.999      173232.6695  California   95279.96251\n",
       "996  134970.00      130390.080      329204.0228  California  164336.60550\n",
       "997  100275.47      241926.310      227142.8200  California  413956.48000\n",
       "998  128456.23      321652.140      281692.3200  California  333962.19000\n",
       "999  161181.72      270939.860      295442.1700    New York  476485.43000\n",
       "\n",
       "[1000 rows x 5 columns]"
      ]
     },
     "execution_count": 7,
     "metadata": {},
     "output_type": "execute_result"
    }
   ],
   "source": [
    "companies"
   ]
  },
  {
   "cell_type": "markdown",
   "id": "6a47b4b4",
   "metadata": {
    "execution": {
     "iopub.execute_input": "2022-08-02T08:55:40.036866Z",
     "iopub.status.busy": "2022-08-02T08:55:40.036428Z",
     "iopub.status.idle": "2022-08-02T08:55:40.043674Z",
     "shell.execute_reply": "2022-08-02T08:55:40.042069Z",
     "shell.execute_reply.started": "2022-08-02T08:55:40.03683Z"
    },
    "papermill": {
     "duration": 0.00586,
     "end_time": "2023-03-10T10:11:12.542916",
     "exception": false,
     "start_time": "2023-03-10T10:11:12.537056",
     "status": "completed"
    },
    "tags": []
   },
   "source": [
    "### Avoiding Dummy Variable Trap"
   ]
  },
  {
   "cell_type": "code",
   "execution_count": 8,
   "id": "57427037",
   "metadata": {
    "execution": {
     "iopub.execute_input": "2023-03-10T10:11:12.557679Z",
     "iopub.status.busy": "2023-03-10T10:11:12.556522Z",
     "iopub.status.idle": "2023-03-10T10:11:12.563613Z",
     "shell.execute_reply": "2023-03-10T10:11:12.562327Z"
    },
    "papermill": {
     "duration": 0.01771,
     "end_time": "2023-03-10T10:11:12.566752",
     "exception": false,
     "start_time": "2023-03-10T10:11:12.549042",
     "status": "completed"
    },
    "tags": []
   },
   "outputs": [],
   "source": [
    "x = x[:, 1:]"
   ]
  },
  {
   "cell_type": "markdown",
   "id": "206cc604",
   "metadata": {
    "papermill": {
     "duration": 0.006134,
     "end_time": "2023-03-10T10:11:12.579086",
     "exception": false,
     "start_time": "2023-03-10T10:11:12.572952",
     "status": "completed"
    },
    "tags": []
   },
   "source": [
    "### Splitting the data into Train and Test set"
   ]
  },
  {
   "cell_type": "code",
   "execution_count": 9,
   "id": "87b57460",
   "metadata": {
    "execution": {
     "iopub.execute_input": "2023-03-10T10:11:12.593430Z",
     "iopub.status.busy": "2023-03-10T10:11:12.592954Z",
     "iopub.status.idle": "2023-03-10T10:11:12.674406Z",
     "shell.execute_reply": "2023-03-10T10:11:12.672869Z"
    },
    "papermill": {
     "duration": 0.092195,
     "end_time": "2023-03-10T10:11:12.677436",
     "exception": false,
     "start_time": "2023-03-10T10:11:12.585241",
     "status": "completed"
    },
    "tags": []
   },
   "outputs": [],
   "source": [
    "from sklearn.model_selection import train_test_split\n",
    "x_train, x_test, y_train, y_test = train_test_split(x, y, test_size = 0.2, random_state = 0)"
   ]
  },
  {
   "cell_type": "markdown",
   "id": "2f63582d",
   "metadata": {
    "execution": {
     "iopub.execute_input": "2022-08-02T09:00:33.184421Z",
     "iopub.status.busy": "2022-08-02T09:00:33.183932Z",
     "iopub.status.idle": "2022-08-02T09:00:33.191608Z",
     "shell.execute_reply": "2022-08-02T09:00:33.190169Z",
     "shell.execute_reply.started": "2022-08-02T09:00:33.184378Z"
    },
    "papermill": {
     "duration": 0.005788,
     "end_time": "2023-03-10T10:11:12.690027",
     "exception": false,
     "start_time": "2023-03-10T10:11:12.684239",
     "status": "completed"
    },
    "tags": []
   },
   "source": [
    "### Fitting the Multiple Linear Regression Model to Training Set"
   ]
  },
  {
   "cell_type": "code",
   "execution_count": 10,
   "id": "2f4de994",
   "metadata": {
    "execution": {
     "iopub.execute_input": "2023-03-10T10:11:12.704402Z",
     "iopub.status.busy": "2023-03-10T10:11:12.703917Z",
     "iopub.status.idle": "2023-03-10T10:11:12.814157Z",
     "shell.execute_reply": "2023-03-10T10:11:12.812677Z"
    },
    "papermill": {
     "duration": 0.120698,
     "end_time": "2023-03-10T10:11:12.816988",
     "exception": false,
     "start_time": "2023-03-10T10:11:12.696290",
     "status": "completed"
    },
    "tags": []
   },
   "outputs": [
    {
     "data": {
      "text/plain": [
       "LinearRegression()"
      ]
     },
     "execution_count": 10,
     "metadata": {},
     "output_type": "execute_result"
    }
   ],
   "source": [
    "from sklearn.linear_model import LinearRegression\n",
    "regressor = LinearRegression()\n",
    "regressor.fit(x_train, y_train)"
   ]
  },
  {
   "cell_type": "code",
   "execution_count": 11,
   "id": "fc748cdb",
   "metadata": {
    "execution": {
     "iopub.execute_input": "2023-03-10T10:11:12.831253Z",
     "iopub.status.busy": "2023-03-10T10:11:12.830809Z",
     "iopub.status.idle": "2023-03-10T10:11:12.841434Z",
     "shell.execute_reply": "2023-03-10T10:11:12.840463Z"
    },
    "papermill": {
     "duration": 0.020664,
     "end_time": "2023-03-10T10:11:12.843919",
     "exception": false,
     "start_time": "2023-03-10T10:11:12.823255",
     "status": "completed"
    },
    "tags": []
   },
   "outputs": [
    {
     "data": {
      "text/plain": [
       "array([ 90209.64901318,  88876.28325862,  95200.74973042, 174739.58503941,\n",
       "        84013.74722284, 110572.81423949, 169438.58451208,  91855.1682484 ,\n",
       "       163402.29005648,  54991.76617392,  67874.72481309, 150180.9861358 ,\n",
       "       126512.60670878,  60430.86889281, 175991.46628657,  76097.46542299,\n",
       "       118577.95366564, 163338.33779446, 165329.70854714, 180487.66382609,\n",
       "       101238.40282718,  86180.18269683, 179933.75346041,  84689.06190888,\n",
       "       105088.13051962, 101399.34780971,  40828.42858138,  58070.59626831,\n",
       "        69777.85472814, 226802.72627013, 121052.52594777, 111658.45981284,\n",
       "       101689.86321283, 137852.59801618,  64960.45224275, 108854.95146996,\n",
       "       184345.94907957, 170595.15880734, 173725.92497117, 118014.06326024,\n",
       "        97038.60706862, 164196.76013804, 107746.47058118,  52030.50278345,\n",
       "       116882.08703837,  59741.11018494, 157857.27897357,  79750.07622713,\n",
       "       159139.45816291, 131182.41311202, 183735.81760226, 173691.52102156,\n",
       "        94077.16471212,  79055.37228415, 179193.73688257,  85539.18255677,\n",
       "       142685.10466661, 169290.41285941,  84946.0123958 , 105424.79762652,\n",
       "       141471.73344522,  53812.88851425, 141109.98209805, 138544.12449302,\n",
       "        98525.35315256, 114019.84013539, 126396.98673988, 151216.5527697 ,\n",
       "        60009.80841183, 173375.17181713, 124272.14963365, 167730.30512327,\n",
       "        92206.01101456, 155162.10688204,  84847.65607993,  78602.24617494,\n",
       "       120695.89889888,  93761.83359006, 138350.10811473, 142832.70064453,\n",
       "       170307.33979742, 139388.94182688, 106463.63123443, 154603.07232232,\n",
       "       139379.05136376, 110182.62230992,  70537.26059843,  88645.70361798,\n",
       "       139438.45008128, 147641.05170022, 156869.72126349,  59643.77197986,\n",
       "        94081.53927638, 113100.16181875,  57752.56877436, 107485.68247072,\n",
       "       147038.4722533 , 151224.944042  , 166542.28652602, 118528.35593888,\n",
       "       121037.42174722, 138899.82289638, 156489.59877727, 122209.67591778,\n",
       "        87611.90462751, 105420.51243038,  95673.35467317, 176889.50642142,\n",
       "       180322.17764231, 109848.65149198, 164002.92284422, 166498.47315072,\n",
       "       156953.6334675 , 173362.67443317, 168836.26856357,  53550.90329145,\n",
       "       175428.41512306, 104839.75018099,  83286.04901321, 138264.69665116,\n",
       "       144028.53976029, 161047.62283516, 168853.97964945, 120731.98115931,\n",
       "       158311.24418492, 110180.76505437, 168367.37799216,  61822.13404496,\n",
       "       157923.48016043, 157075.12729573, 173097.51172293, 155283.77969052,\n",
       "       103825.25107934,  86188.75284512, 140875.86692656, 164693.69969128,\n",
       "       121446.91360112, 176415.2867655 , 101228.25635896,  83227.39996098,\n",
       "       177095.75155581, 101943.93836181,  71395.02274908,  90700.7147071 ,\n",
       "        62340.05164744,  69835.09399318,  74112.01200262, 175404.91965022,\n",
       "        90666.22114537, 150611.55534056,  93568.74599705,  63961.30747995,\n",
       "       171417.40945363,  61952.19803214, 168222.12034272, 165172.65956631,\n",
       "       164711.23169268, 102856.15401618, 180023.62903163,  75018.26432529,\n",
       "        91653.77885545, 135192.49017143,  65934.01337805,  72635.24588968,\n",
       "        61710.70977498, 183156.8229963 , 175332.00553509, 157838.90773028,\n",
       "       140678.85216661, 153637.42131765,  59701.85037545,  91559.88668045,\n",
       "       151949.94585843, 167617.95209287,  73329.20016737, 116442.3868544 ,\n",
       "        81262.17503945, 148960.9914253 , 116669.87853678, 129716.3764601 ,\n",
       "       173618.51732983, 298075.79813027, 145439.85431614, 149760.67520877,\n",
       "        87148.61949834,  71365.56394454,  71492.27147469,  69912.11428869,\n",
       "       120444.25162176,  90141.01995445, 166079.00146558, 125143.15876482,\n",
       "        68170.27493788, 143636.00582325, 118326.96654593, 164632.26473798,\n",
       "       167869.68891337, 146162.33882386, 140714.93439153, 109120.29312493])"
      ]
     },
     "execution_count": 11,
     "metadata": {},
     "output_type": "execute_result"
    }
   ],
   "source": [
    "y_pred = regressor.predict(x_test)\n",
    "y_pred"
   ]
  },
  {
   "cell_type": "code",
   "execution_count": 12,
   "id": "bef24746",
   "metadata": {
    "execution": {
     "iopub.execute_input": "2023-03-10T10:11:12.859890Z",
     "iopub.status.busy": "2023-03-10T10:11:12.859421Z",
     "iopub.status.idle": "2023-03-10T10:11:12.865512Z",
     "shell.execute_reply": "2023-03-10T10:11:12.864240Z"
    },
    "papermill": {
     "duration": 0.016782,
     "end_time": "2023-03-10T10:11:12.867929",
     "exception": false,
     "start_time": "2023-03-10T10:11:12.851147",
     "status": "completed"
    },
    "tags": []
   },
   "outputs": [
    {
     "name": "stdout",
     "output_type": "stream",
     "text": [
      "[   1.04239904    0.35510511 -320.45531609]\n"
     ]
    }
   ],
   "source": [
    "#caliculating the coefficient\n",
    "print(regressor.coef_)"
   ]
  },
  {
   "cell_type": "code",
   "execution_count": 13,
   "id": "3cd448f0",
   "metadata": {
    "execution": {
     "iopub.execute_input": "2023-03-10T10:11:12.884082Z",
     "iopub.status.busy": "2023-03-10T10:11:12.883595Z",
     "iopub.status.idle": "2023-03-10T10:11:12.890345Z",
     "shell.execute_reply": "2023-03-10T10:11:12.888896Z"
    },
    "papermill": {
     "duration": 0.018193,
     "end_time": "2023-03-10T10:11:12.893575",
     "exception": false,
     "start_time": "2023-03-10T10:11:12.875382",
     "status": "completed"
    },
    "tags": []
   },
   "outputs": [
    {
     "name": "stdout",
     "output_type": "stream",
     "text": [
      "-88623.76527343772\n"
     ]
    }
   ],
   "source": [
    "#calculating the intercept \n",
    "print(regressor.intercept_)"
   ]
  },
  {
   "cell_type": "code",
   "execution_count": 14,
   "id": "db2173bc",
   "metadata": {
    "execution": {
     "iopub.execute_input": "2023-03-10T10:11:12.910510Z",
     "iopub.status.busy": "2023-03-10T10:11:12.909624Z",
     "iopub.status.idle": "2023-03-10T10:11:12.918456Z",
     "shell.execute_reply": "2023-03-10T10:11:12.917351Z"
    },
    "papermill": {
     "duration": 0.0202,
     "end_time": "2023-03-10T10:11:12.921123",
     "exception": false,
     "start_time": "2023-03-10T10:11:12.900923",
     "status": "completed"
    },
    "tags": []
   },
   "outputs": [
    {
     "data": {
      "text/plain": [
       "0.8985038788872521"
      ]
     },
     "execution_count": 14,
     "metadata": {},
     "output_type": "execute_result"
    }
   ],
   "source": [
    "from sklearn.metrics import r2_score\n",
    "r2_score(y_test, y_pred)"
   ]
  }
 ],
 "metadata": {
  "kernelspec": {
   "display_name": "Python 3",
   "language": "python",
   "name": "python3"
  },
  "language_info": {
   "codemirror_mode": {
    "name": "ipython",
    "version": 3
   },
   "file_extension": ".py",
   "mimetype": "text/x-python",
   "name": "python",
   "nbconvert_exporter": "python",
   "pygments_lexer": "ipython3",
   "version": "3.7.12"
  },
  "papermill": {
   "default_parameters": {},
   "duration": 15.181588,
   "end_time": "2023-03-10T10:11:13.752530",
   "environment_variables": {},
   "exception": null,
   "input_path": "__notebook__.ipynb",
   "output_path": "__notebook__.ipynb",
   "parameters": {},
   "start_time": "2023-03-10T10:10:58.570942",
   "version": "2.3.4"
  }
 },
 "nbformat": 4,
 "nbformat_minor": 5
}
